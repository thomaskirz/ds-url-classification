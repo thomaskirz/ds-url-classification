{
 "cells": [
  {
   "cell_type": "markdown",
   "source": [
    "## Load Data"
   ],
   "metadata": {
    "collapsed": false,
    "pycharm": {
     "name": "#%% md\n"
    }
   }
  },
  {
   "metadata": {
    "ExecuteTime": {
     "end_time": "2024-04-30T12:01:36.604677Z",
     "start_time": "2024-04-30T12:01:35.618553Z"
    }
   },
   "cell_type": "code",
   "source": [
    "import time\n",
    "\n",
    "import matplotlib.pyplot as plt\n",
    "import numpy as np\n",
    "import pandas as pd\n",
    "from IPython.core.display_functions import display\n",
    "from sklearn.feature_extraction.text import CountVectorizer\n",
    "from sklearn.linear_model import SGDClassifier\n",
    "from sklearn.model_selection import RandomizedSearchCV\n",
    "from sklearn.utils import shuffle\n",
    "\n",
    "df = pd.read_csv('../data/phishstorm.csv', encoding='iso-8859-1', on_bad_lines='skip')\n",
    "# rename first column to url\n",
    "df = df.rename(columns={df.columns[0]: 'url'})\n",
    "# keep only url and label columns\n",
    "df = df[['url', 'label']]\n",
    "\n",
    "print(f'Dropping {df.url.isnull().sum()} empty URL entries from ODP dataset')\n",
    "df.drop(df[df.url.isnull()].index, inplace=True)\n",
    "print(f'Dropping {df.label.isnull().sum()} empty label entries from ODP dataset')\n",
    "df.drop(df[df.label.isnull()].index, inplace=True)"
   ],
   "outputs": [
    {
     "name": "stdout",
     "output_type": "stream",
     "text": [
      "Dropping 0 empty URL entries from ODP dataset\n",
      "Dropping 92 empty label entries from ODP dataset\n"
     ]
    },
    {
     "name": "stderr",
     "output_type": "stream",
     "text": [
      "/var/folders/rd/k002x01n0gnbs4ysndmgg8d80000gn/T/ipykernel_37996/1247802633.py:12: DtypeWarning: Columns (1,2,3,11,12) have mixed types. Specify dtype option on import or set low_memory=False.\n",
      "  df = pd.read_csv('../data/phishstorm.csv', encoding='iso-8859-1', on_bad_lines='skip')\n"
     ]
    }
   ],
   "execution_count": 2
  },
  {
   "cell_type": "markdown",
   "metadata": {
    "pycharm": {
     "name": "#%% md\n"
    }
   },
   "source": [
    "## Preprocessing"
   ]
  },
  {
   "cell_type": "code",
   "metadata": {
    "pycharm": {
     "name": "#%%\n"
    },
    "ExecuteTime": {
     "end_time": "2024-04-30T12:01:36.622633Z",
     "start_time": "2024-04-30T12:01:36.606060Z"
    }
   },
   "source": "df['url'] = df['url'].apply(lambda x: np.str_(x))",
   "outputs": [],
   "execution_count": 3
  },
  {
   "cell_type": "markdown",
   "metadata": {
    "pycharm": {
     "name": "#%% md\n"
    }
   },
   "source": [
    "## Prepare labels"
   ]
  },
  {
   "cell_type": "code",
   "metadata": {
    "pycharm": {
     "name": "#%%\n"
    },
    "ExecuteTime": {
     "end_time": "2024-04-30T12:01:36.627035Z",
     "start_time": "2024-04-30T12:01:36.623677Z"
    }
   },
   "source": [
    "# label distribution\n",
    "print(df['label'].value_counts())"
   ],
   "outputs": [
    {
     "name": "stdout",
     "output_type": "stream",
     "text": [
      "label\n",
      "0.0    48009\n",
      "1.0    47904\n",
      "Name: count, dtype: int64\n"
     ]
    }
   ],
   "execution_count": 4
  },
  {
   "cell_type": "markdown",
   "metadata": {
    "pycharm": {
     "name": "#%% md\n"
    }
   },
   "source": [
    "## Transform with count vectorizer"
   ]
  },
  {
   "cell_type": "code",
   "metadata": {
    "pycharm": {
     "name": "#%%\n"
    },
    "ExecuteTime": {
     "end_time": "2024-04-30T12:01:39.790408Z",
     "start_time": "2024-04-30T12:01:36.628498Z"
    }
   },
   "source": [
    "count_vectorizer = CountVectorizer(analyzer='char_wb', ngram_range=(5, 5))\n",
    "X = count_vectorizer.fit_transform(df['url'])\n",
    "y = df['label'].values\n",
    "\n",
    "X, y = shuffle(X, y, random_state=67)"
   ],
   "outputs": [],
   "execution_count": 5
  },
  {
   "cell_type": "markdown",
   "metadata": {
    "pycharm": {
     "name": "#%% md\n"
    }
   },
   "source": [
    "## Optimize alpha parameter with grid search"
   ]
  },
  {
   "cell_type": "code",
   "metadata": {
    "pycharm": {
     "name": "#%%\n"
    },
    "ExecuteTime": {
     "end_time": "2024-04-30T12:01:47.513077Z",
     "start_time": "2024-04-30T12:01:39.791057Z"
    }
   },
   "source": [
    "sgd = SGDClassifier(class_weight='balanced', loss='hinge')\n",
    "\n",
    "dist = {'alpha': np.logspace(-7, 1, 10)}\n",
    "clf = RandomizedSearchCV(sgd, param_distributions=dist, random_state=67, n_jobs=4, cv=5)\n",
    "\n",
    "start = time.time()\n",
    "search = clf.fit(X, y)\n",
    "print(f'\\nCV Time: {time.time()-start}')\n",
    "search.best_params_"
   ],
   "outputs": [
    {
     "name": "stdout",
     "output_type": "stream",
     "text": [
      "\n",
      "CV Time: 7.709682941436768\n"
     ]
    },
    {
     "data": {
      "text/plain": [
       "{'alpha': 4.641588833612772e-05}"
      ]
     },
     "execution_count": 6,
     "metadata": {},
     "output_type": "execute_result"
    }
   ],
   "execution_count": 6
  },
  {
   "cell_type": "markdown",
   "metadata": {
    "pycharm": {
     "name": "#%% md\n"
    }
   },
   "source": [
    "## Report results"
   ]
  },
  {
   "cell_type": "code",
   "metadata": {
    "pycharm": {
     "name": "#%%\n"
    },
    "ExecuteTime": {
     "end_time": "2024-04-30T12:42:19.508021Z",
     "start_time": "2024-04-30T12:42:19.270306Z"
    }
   },
   "source": [
    "with pd.option_context('display.max_rows', None, 'display.max_columns', None):  # more options can be specified also\n",
    "    display(pd.DataFrame(clf.cv_results_).sort_values('rank_test_score'))\n",
    "    \n",
    "plt.figure(figsize=(10, 6))\n",
    "plt.semilogx(clf.cv_results_['param_alpha'], clf.cv_results_['mean_test_score'])\n",
    "plt.title('Alpha Grid Search')\n",
    "plt.xlabel('Alpha')\n",
    "plt.ylabel('Mean Test Score')\n",
    "plt.grid()\n",
    "plt.savefig(\"../results/charts/phishstorm_gridsearch.png\")\n",
    "plt.show()"
   ],
   "outputs": [
    {
     "data": {
      "text/plain": [
       "   mean_fit_time  std_fit_time  mean_score_time  std_score_time param_alpha  \\\n",
       "3       0.531616      0.021466         0.005346        0.001305    0.000046   \n",
       "4       0.552680      0.042180         0.006212        0.001837    0.000359   \n",
       "2       0.487120      0.028064         0.006065        0.001571    0.000006   \n",
       "0       0.620220      0.053736         0.010519        0.006384         0.0   \n",
       "1       0.520190      0.012563         0.005556        0.001155    0.000001   \n",
       "5       0.447658      0.010903         0.006090        0.002495    0.002783   \n",
       "6       0.402035      0.023000         0.006987        0.002605    0.021544   \n",
       "7       0.422338      0.005678         0.006023        0.002051     0.16681   \n",
       "8       0.440668      0.049634         0.005127        0.000758     1.29155   \n",
       "9       0.526863      0.132478         0.005769        0.002483        10.0   \n",
       "\n",
       "                              params  split0_test_score  split1_test_score  \\\n",
       "3   {'alpha': 4.641588833612772e-05}           0.983892           0.984413   \n",
       "4  {'alpha': 0.00035938136638046257}           0.980608           0.982015   \n",
       "2   {'alpha': 5.994842503189409e-06}           0.981755           0.981442   \n",
       "0                   {'alpha': 1e-07}           0.981650           0.981650   \n",
       "1   {'alpha': 7.742636826811278e-07}           0.980139           0.981442   \n",
       "5   {'alpha': 0.0027825594022071257}           0.967992           0.968305   \n",
       "6    {'alpha': 0.021544346900318822}           0.935776           0.940364   \n",
       "7     {'alpha': 0.16681005372000557}           0.881770           0.885836   \n",
       "8      {'alpha': 1.2915496650148828}           0.872231           0.888495   \n",
       "9                    {'alpha': 10.0}           0.842725           0.871292   \n",
       "\n",
       "   split2_test_score  split3_test_score  split4_test_score  mean_test_score  \\\n",
       "3           0.983683           0.982744           0.983109         0.983568   \n",
       "4           0.982537           0.982379           0.982067         0.981921   \n",
       "2           0.980764           0.981180           0.981441         0.981316   \n",
       "0           0.981077           0.980711           0.979460         0.980910   \n",
       "1           0.981129           0.980711           0.980294         0.980743   \n",
       "5           0.967784           0.967834           0.968147         0.968013   \n",
       "6           0.940729           0.938432           0.936607         0.938382   \n",
       "7           0.886201           0.885570           0.873996         0.882675   \n",
       "8           0.882344           0.886352           0.864613         0.878807   \n",
       "9           0.864620           0.863674           0.850589         0.858580   \n",
       "\n",
       "   std_test_score  rank_test_score  \n",
       "3        0.000587                1  \n",
       "4        0.000685                2  \n",
       "2        0.000331                3  \n",
       "0        0.000808                4  \n",
       "1        0.000491                5  \n",
       "5        0.000194                6  \n",
       "6        0.001969                7  \n",
       "7        0.004625                8  \n",
       "8        0.009033                9  \n",
       "9        0.010385               10  "
      ],
      "text/html": [
       "<div>\n",
       "<style scoped>\n",
       "    .dataframe tbody tr th:only-of-type {\n",
       "        vertical-align: middle;\n",
       "    }\n",
       "\n",
       "    .dataframe tbody tr th {\n",
       "        vertical-align: top;\n",
       "    }\n",
       "\n",
       "    .dataframe thead th {\n",
       "        text-align: right;\n",
       "    }\n",
       "</style>\n",
       "<table border=\"1\" class=\"dataframe\">\n",
       "  <thead>\n",
       "    <tr style=\"text-align: right;\">\n",
       "      <th></th>\n",
       "      <th>mean_fit_time</th>\n",
       "      <th>std_fit_time</th>\n",
       "      <th>mean_score_time</th>\n",
       "      <th>std_score_time</th>\n",
       "      <th>param_alpha</th>\n",
       "      <th>params</th>\n",
       "      <th>split0_test_score</th>\n",
       "      <th>split1_test_score</th>\n",
       "      <th>split2_test_score</th>\n",
       "      <th>split3_test_score</th>\n",
       "      <th>split4_test_score</th>\n",
       "      <th>mean_test_score</th>\n",
       "      <th>std_test_score</th>\n",
       "      <th>rank_test_score</th>\n",
       "    </tr>\n",
       "  </thead>\n",
       "  <tbody>\n",
       "    <tr>\n",
       "      <th>3</th>\n",
       "      <td>0.531616</td>\n",
       "      <td>0.021466</td>\n",
       "      <td>0.005346</td>\n",
       "      <td>0.001305</td>\n",
       "      <td>0.000046</td>\n",
       "      <td>{'alpha': 4.641588833612772e-05}</td>\n",
       "      <td>0.983892</td>\n",
       "      <td>0.984413</td>\n",
       "      <td>0.983683</td>\n",
       "      <td>0.982744</td>\n",
       "      <td>0.983109</td>\n",
       "      <td>0.983568</td>\n",
       "      <td>0.000587</td>\n",
       "      <td>1</td>\n",
       "    </tr>\n",
       "    <tr>\n",
       "      <th>4</th>\n",
       "      <td>0.552680</td>\n",
       "      <td>0.042180</td>\n",
       "      <td>0.006212</td>\n",
       "      <td>0.001837</td>\n",
       "      <td>0.000359</td>\n",
       "      <td>{'alpha': 0.00035938136638046257}</td>\n",
       "      <td>0.980608</td>\n",
       "      <td>0.982015</td>\n",
       "      <td>0.982537</td>\n",
       "      <td>0.982379</td>\n",
       "      <td>0.982067</td>\n",
       "      <td>0.981921</td>\n",
       "      <td>0.000685</td>\n",
       "      <td>2</td>\n",
       "    </tr>\n",
       "    <tr>\n",
       "      <th>2</th>\n",
       "      <td>0.487120</td>\n",
       "      <td>0.028064</td>\n",
       "      <td>0.006065</td>\n",
       "      <td>0.001571</td>\n",
       "      <td>0.000006</td>\n",
       "      <td>{'alpha': 5.994842503189409e-06}</td>\n",
       "      <td>0.981755</td>\n",
       "      <td>0.981442</td>\n",
       "      <td>0.980764</td>\n",
       "      <td>0.981180</td>\n",
       "      <td>0.981441</td>\n",
       "      <td>0.981316</td>\n",
       "      <td>0.000331</td>\n",
       "      <td>3</td>\n",
       "    </tr>\n",
       "    <tr>\n",
       "      <th>0</th>\n",
       "      <td>0.620220</td>\n",
       "      <td>0.053736</td>\n",
       "      <td>0.010519</td>\n",
       "      <td>0.006384</td>\n",
       "      <td>0.0</td>\n",
       "      <td>{'alpha': 1e-07}</td>\n",
       "      <td>0.981650</td>\n",
       "      <td>0.981650</td>\n",
       "      <td>0.981077</td>\n",
       "      <td>0.980711</td>\n",
       "      <td>0.979460</td>\n",
       "      <td>0.980910</td>\n",
       "      <td>0.000808</td>\n",
       "      <td>4</td>\n",
       "    </tr>\n",
       "    <tr>\n",
       "      <th>1</th>\n",
       "      <td>0.520190</td>\n",
       "      <td>0.012563</td>\n",
       "      <td>0.005556</td>\n",
       "      <td>0.001155</td>\n",
       "      <td>0.000001</td>\n",
       "      <td>{'alpha': 7.742636826811278e-07}</td>\n",
       "      <td>0.980139</td>\n",
       "      <td>0.981442</td>\n",
       "      <td>0.981129</td>\n",
       "      <td>0.980711</td>\n",
       "      <td>0.980294</td>\n",
       "      <td>0.980743</td>\n",
       "      <td>0.000491</td>\n",
       "      <td>5</td>\n",
       "    </tr>\n",
       "    <tr>\n",
       "      <th>5</th>\n",
       "      <td>0.447658</td>\n",
       "      <td>0.010903</td>\n",
       "      <td>0.006090</td>\n",
       "      <td>0.002495</td>\n",
       "      <td>0.002783</td>\n",
       "      <td>{'alpha': 0.0027825594022071257}</td>\n",
       "      <td>0.967992</td>\n",
       "      <td>0.968305</td>\n",
       "      <td>0.967784</td>\n",
       "      <td>0.967834</td>\n",
       "      <td>0.968147</td>\n",
       "      <td>0.968013</td>\n",
       "      <td>0.000194</td>\n",
       "      <td>6</td>\n",
       "    </tr>\n",
       "    <tr>\n",
       "      <th>6</th>\n",
       "      <td>0.402035</td>\n",
       "      <td>0.023000</td>\n",
       "      <td>0.006987</td>\n",
       "      <td>0.002605</td>\n",
       "      <td>0.021544</td>\n",
       "      <td>{'alpha': 0.021544346900318822}</td>\n",
       "      <td>0.935776</td>\n",
       "      <td>0.940364</td>\n",
       "      <td>0.940729</td>\n",
       "      <td>0.938432</td>\n",
       "      <td>0.936607</td>\n",
       "      <td>0.938382</td>\n",
       "      <td>0.001969</td>\n",
       "      <td>7</td>\n",
       "    </tr>\n",
       "    <tr>\n",
       "      <th>7</th>\n",
       "      <td>0.422338</td>\n",
       "      <td>0.005678</td>\n",
       "      <td>0.006023</td>\n",
       "      <td>0.002051</td>\n",
       "      <td>0.16681</td>\n",
       "      <td>{'alpha': 0.16681005372000557}</td>\n",
       "      <td>0.881770</td>\n",
       "      <td>0.885836</td>\n",
       "      <td>0.886201</td>\n",
       "      <td>0.885570</td>\n",
       "      <td>0.873996</td>\n",
       "      <td>0.882675</td>\n",
       "      <td>0.004625</td>\n",
       "      <td>8</td>\n",
       "    </tr>\n",
       "    <tr>\n",
       "      <th>8</th>\n",
       "      <td>0.440668</td>\n",
       "      <td>0.049634</td>\n",
       "      <td>0.005127</td>\n",
       "      <td>0.000758</td>\n",
       "      <td>1.29155</td>\n",
       "      <td>{'alpha': 1.2915496650148828}</td>\n",
       "      <td>0.872231</td>\n",
       "      <td>0.888495</td>\n",
       "      <td>0.882344</td>\n",
       "      <td>0.886352</td>\n",
       "      <td>0.864613</td>\n",
       "      <td>0.878807</td>\n",
       "      <td>0.009033</td>\n",
       "      <td>9</td>\n",
       "    </tr>\n",
       "    <tr>\n",
       "      <th>9</th>\n",
       "      <td>0.526863</td>\n",
       "      <td>0.132478</td>\n",
       "      <td>0.005769</td>\n",
       "      <td>0.002483</td>\n",
       "      <td>10.0</td>\n",
       "      <td>{'alpha': 10.0}</td>\n",
       "      <td>0.842725</td>\n",
       "      <td>0.871292</td>\n",
       "      <td>0.864620</td>\n",
       "      <td>0.863674</td>\n",
       "      <td>0.850589</td>\n",
       "      <td>0.858580</td>\n",
       "      <td>0.010385</td>\n",
       "      <td>10</td>\n",
       "    </tr>\n",
       "  </tbody>\n",
       "</table>\n",
       "</div>"
      ]
     },
     "metadata": {},
     "output_type": "display_data"
    },
    {
     "data": {
      "text/plain": [
       "<Figure size 1000x600 with 1 Axes>"
      ],
      "image/png": "[encoded data removed]"
     },
     "metadata": {},
     "output_type": "display_data"
    }
   ],
   "execution_count": 10
  },
  {
   "metadata": {},
   "cell_type": "markdown",
   "source": "## Evaluate best model"
  },
  {
   "metadata": {
    "ExecuteTime": {
     "end_time": "2024-04-30T12:01:49.149683Z",
     "start_time": "2024-04-30T12:01:48.030504Z"
    }
   },
   "cell_type": "code",
   "source": [
    "from sklearn.model_selection import cross_val_score\n",
    "\n",
    "sgd = SGDClassifier(class_weight='balanced', loss='hinge', alpha=clf.best_params_['alpha'])\n",
    "scores = cross_val_score(sgd, X, y, cv=5, n_jobs=4)\n",
    "print(f'Accuracy: {scores.mean():.2f} (+/- {scores.std()*2:.2f})')"
   ],
   "outputs": [
    {
     "name": "stdout",
     "output_type": "stream",
     "text": [
      "Accuracy: 0.98 (+/- 0.00)\n"
     ]
    }
   ],
   "execution_count": 8
  },
  {
   "metadata": {},
   "cell_type": "markdown",
   "source": "## Write prediction to file (cross-validation)"
  },
  {
   "metadata": {
    "ExecuteTime": {
     "end_time": "2024-04-30T12:01:50.154016Z",
     "start_time": "2024-04-30T12:01:49.150256Z"
    }
   },
   "cell_type": "code",
   "source": [
    "from sklearn.model_selection import cross_val_predict\n",
    "y_pred = cross_val_predict(sgd, X, y, cv=5, n_jobs=4)\n",
    "\n",
    "df['prediction'] = y_pred\n",
    "df.to_csv('../results/predictions/phishstorm-predictions.csv', index=False)\n"
   ],
   "outputs": [],
   "execution_count": 9
  }
 ],
 "metadata": {
  "kernelspec": {
   "display_name": "Python 3 (ipykernel)",
   "language": "python",
   "name": "python3"
  },
  "language_info": {
   "codemirror_mode": {
    "name": "ipython",
    "version": 3
   },
   "file_extension": ".py",
   "mimetype": "text/x-python",
   "name": "python",
   "nbconvert_exporter": "python",
   "pygments_lexer": "ipython3",
   "version": "3.9.2"
  }
 },
 "nbformat": 4,
 "nbformat_minor": 1
}
